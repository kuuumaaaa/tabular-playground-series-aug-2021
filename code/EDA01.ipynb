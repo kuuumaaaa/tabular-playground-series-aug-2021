{
  "nbformat": 4,
  "nbformat_minor": 0,
  "metadata": {
    "colab": {
      "name": "EDA01.ipynb",
      "provenance": [],
      "collapsed_sections": [],
      "mount_file_id": "1lXz1LVDuHCgn2rc2kE5wygXNYfk81_Rw",
      "authorship_tag": "ABX9TyPaXo1CTslGwGIqx3N7DydT",
      "include_colab_link": true
    },
    "kernelspec": {
      "display_name": "Python 3",
      "name": "python3"
    },
    "language_info": {
      "name": "python"
    }
  },
  "cells": [
    {
      "cell_type": "markdown",
      "metadata": {
        "id": "view-in-github",
        "colab_type": "text"
      },
      "source": [
        "<a href=\"https://colab.research.google.com/github/kuuumaaaa/tabular-playground-series-aug-2021/blob/main/code/EDA01.ipynb\" target=\"_parent\"><img src=\"https://colab.research.google.com/assets/colab-badge.svg\" alt=\"Open In Colab\"/></a>"
      ]
    },
    {
      "cell_type": "code",
      "metadata": {
        "id": "7HFgQrAechrX"
      },
      "source": [
        "pip install optuna"
      ],
      "execution_count": null,
      "outputs": []
    },
    {
      "cell_type": "code",
      "metadata": {
        "id": "vhPFOXQpRFGv"
      },
      "source": [
        "# module\n",
        "import pandas as pd\n",
        "import numpy as np\n",
        "import optuna"
      ],
      "execution_count": 52,
      "outputs": []
    },
    {
      "cell_type": "code",
      "metadata": {
        "colab": {
          "base_uri": "https://localhost:8080/"
        },
        "id": "OfiGDm-1RPZG",
        "outputId": "f227b27e-4520-41fe-9c9d-d7f4f2dc5af1"
      },
      "source": [
        "from google.colab import drive\n",
        "drive.mount('/content/drive')"
      ],
      "execution_count": 2,
      "outputs": [
        {
          "output_type": "stream",
          "text": [
            "Drive already mounted at /content/drive; to attempt to forcibly remount, call drive.mount(\"/content/drive\", force_remount=True).\n"
          ],
          "name": "stdout"
        }
      ]
    },
    {
      "cell_type": "code",
      "metadata": {
        "id": "L7jGC655RSR6"
      },
      "source": [
        "input = '/content/drive/MyDrive/Colab Notebooks/tabular-playground-series-aug-2021/input/'\n",
        "output = '/content/drive/MyDrive/Colab Notebooks/tabular-playground-series-aug-2021/output/'"
      ],
      "execution_count": 3,
      "outputs": []
    },
    {
      "cell_type": "code",
      "metadata": {
        "id": "pz0GmRFHRqEJ"
      },
      "source": [
        "train_ori = pd.read_csv(input+'train.csv')\n",
        "train = train_ori.copy()\n",
        "test_ori = pd.read_csv(input+'test.csv')\n",
        "test = test_ori.copy()"
      ],
      "execution_count": 42,
      "outputs": []
    },
    {
      "cell_type": "code",
      "metadata": {
        "id": "LnRpvcmlVDL-"
      },
      "source": [
        "ID = 'id'\n",
        "TARGET = 'loss'\n",
        "rm_cols = []\n",
        "test[TARGET] = np.nan\n",
        "df = pd.concat([train,test])\n",
        "# train_x = train.drop('loss', axis=1)\n",
        "# train_y = train['loss']\n",
        "# train_y = train_y.reset_index(drop=True)\n",
        "# test_x = test.copy()\n",
        "# test_y = test.copy()"
      ],
      "execution_count": 54,
      "outputs": []
    },
    {
      "cell_type": "code",
      "metadata": {
        "colab": {
          "base_uri": "https://localhost:8080/"
        },
        "id": "b2g2XCF4TvYu",
        "outputId": "7d5827e3-b9cb-499f-a665-265d160c6880"
      },
      "source": [
        "import lightgbm as lgb\n",
        "import optuna.integration.lightgbm as lgbo\n",
        "from sklearn.metrics import mean_absolute_error\n",
        "from sklearn.model_selection import KFold\n",
        "from sklearn.model_selection import train_test_split\n",
        "\n",
        "# 特徴量と目的変数をlightgbnのデータ構造に変換する\n",
        "train_df, val_df = train_test_split( df[df[TARGET].notna()],test_size=0.33, random_state=71)\n",
        "test_df = df[df[TARGET].isnull()]\n",
        "\n",
        "feat_cols = [col for col in train_df.columns if col not in rm_cols+[ID, TARGET]]\n",
        "\n",
        "train_x = train_df[feat_cols]\n",
        "train_y = train_df[TARGET]\n",
        "val_x = val_df[feat_cols]\n",
        "val_y = val_df[TARGET]\n",
        "test_x = test_df[feat_cols]\n",
        "test_y = test_df[TARGET]\n",
        "\n",
        "SEED = 0\n",
        "\n",
        "\n",
        "\n",
        "train_data = lgb.Dataset(train_x, label=train_y)\n",
        "val_data = lgb.Dataset(val_x, label=val_y)\n",
        "\n",
        "opt_params = {\n",
        "    \"objective\":\"regression\",\n",
        "    \"metric\":\"rmse\"\n",
        "}\n",
        "\n",
        "opt=lgbo.train(\n",
        "    opt_params,\n",
        "    train_data,\n",
        "    valid_sets = val_data,\n",
        "    verbose_eval=False,\n",
        "    #ラウンド数\n",
        "    num_boost_round = 5,\n",
        "    #打ち切り\n",
        "    #early_stopping_rounds = 100\n",
        ")\n",
        "\n",
        "params = opt.params\n",
        "\n",
        "model = lgb.train(\n",
        "    params,\n",
        "    train_data,\n",
        "    valid_names=['train', 'valid'],\n",
        "    valid_sets=[train_data, val_data],\n",
        "    verbose_eval=100,\n",
        ")\n",
        "\n",
        "val_pred = model.predict(val_x, num_iteration=model.best_iteration)\n",
        "score = mean_absolute_error(val_y, val_pred)\n",
        "\n",
        "pred_df = pd.DataFrame(sorted(zip(val_x.index, val_pred, val_y)), columns=[\n",
        "                       'index', 'predict', 'actual'])\n",
        "\n",
        "feature_imp = pd.DataFrame(sorted(zip(model.feature_importance(\n",
        "), train_x.columns)), columns=['importance', 'feature'])\n",
        "\n",
        "print(f'score: {score:.4f}')"
      ],
      "execution_count": 55,
      "outputs": [
        {
          "output_type": "stream",
          "text": [
            "\u001b[32m[I 2021-08-24 13:56:36,178]\u001b[0m A new study created in memory with name: no-name-929dfaa9-dd8e-45a8-ae31-0fc2ca0d7746\u001b[0m\n",
            "feature_fraction, val_score: 7.918262:  14%|#4        | 1/7 [00:04<00:25,  4.20s/it]\u001b[32m[I 2021-08-24 13:56:40,395]\u001b[0m Trial 0 finished with value: 7.9182619004961055 and parameters: {'feature_fraction': 0.5}. Best is trial 0 with value: 7.9182619004961055.\u001b[0m\n",
            "feature_fraction, val_score: 7.915979:  29%|##8       | 2/7 [00:08<00:21,  4.30s/it]\u001b[32m[I 2021-08-24 13:56:44,761]\u001b[0m Trial 1 finished with value: 7.915978755291697 and parameters: {'feature_fraction': 1.0}. Best is trial 1 with value: 7.915978755291697.\u001b[0m\n",
            "feature_fraction, val_score: 7.915979:  43%|####2     | 3/7 [00:12<00:16,  4.25s/it]\u001b[32m[I 2021-08-24 13:56:48,942]\u001b[0m Trial 2 finished with value: 7.917787426365241 and parameters: {'feature_fraction': 0.6}. Best is trial 1 with value: 7.915978755291697.\u001b[0m\n",
            "feature_fraction, val_score: 7.915979:  57%|#####7    | 4/7 [00:17<00:12,  4.25s/it]\u001b[32m[I 2021-08-24 13:56:53,210]\u001b[0m Trial 3 finished with value: 7.916546346655292 and parameters: {'feature_fraction': 0.7}. Best is trial 1 with value: 7.915978755291697.\u001b[0m\n",
            "feature_fraction, val_score: 7.915979:  71%|#######1  | 5/7 [00:21<00:08,  4.31s/it]\u001b[32m[I 2021-08-24 13:56:57,614]\u001b[0m Trial 4 finished with value: 7.916644934750177 and parameters: {'feature_fraction': 0.8999999999999999}. Best is trial 1 with value: 7.915978755291697.\u001b[0m\n",
            "feature_fraction, val_score: 7.915979:  86%|########5 | 6/7 [00:25<00:04,  4.27s/it]\u001b[32m[I 2021-08-24 13:57:01,804]\u001b[0m Trial 5 finished with value: 7.920546004769188 and parameters: {'feature_fraction': 0.4}. Best is trial 1 with value: 7.915978755291697.\u001b[0m\n",
            "feature_fraction, val_score: 7.915979: 100%|##########| 7/7 [00:29<00:00,  4.30s/it]\u001b[32m[I 2021-08-24 13:57:06,168]\u001b[0m Trial 6 finished with value: 7.917210157695983 and parameters: {'feature_fraction': 0.8}. Best is trial 1 with value: 7.915978755291697.\u001b[0m\n",
            "feature_fraction, val_score: 7.915979: 100%|##########| 7/7 [00:29<00:00,  4.28s/it]\n",
            "num_leaves, val_score: 7.914696:   5%|5         | 1/20 [00:04<01:27,  4.62s/it]\u001b[32m[I 2021-08-24 13:57:10,809]\u001b[0m Trial 7 finished with value: 7.914696413149288 and parameters: {'num_leaves': 59}. Best is trial 7 with value: 7.914696413149288.\u001b[0m\n",
            "num_leaves, val_score: 7.914696:  10%|#         | 2/20 [00:09<01:22,  4.57s/it]\u001b[32m[I 2021-08-24 13:57:15,343]\u001b[0m Trial 8 finished with value: 7.915378748086888 and parameters: {'num_leaves': 43}. Best is trial 7 with value: 7.914696413149288.\u001b[0m\n",
            "num_leaves, val_score: 7.914696:  15%|#5        | 3/20 [00:13<01:19,  4.68s/it]\u001b[32m[I 2021-08-24 13:57:20,164]\u001b[0m Trial 9 finished with value: 7.914775201463347 and parameters: {'num_leaves': 94}. Best is trial 7 with value: 7.914696413149288.\u001b[0m\n",
            "num_leaves, val_score: 7.914696:  20%|##        | 4/20 [00:19<01:18,  4.89s/it]\u001b[32m[I 2021-08-24 13:57:25,363]\u001b[0m Trial 10 finished with value: 7.91485755688898 and parameters: {'num_leaves': 186}. Best is trial 7 with value: 7.914696413149288.\u001b[0m\n",
            "num_leaves, val_score: 7.914369:  25%|##5       | 5/20 [00:24<01:13,  4.92s/it]\u001b[32m[I 2021-08-24 13:57:30,331]\u001b[0m Trial 11 finished with value: 7.914368565569516 and parameters: {'num_leaves': 126}. Best is trial 11 with value: 7.914368565569516.\u001b[0m\n",
            "num_leaves, val_score: 7.914369:  30%|###       | 6/20 [00:28<01:07,  4.83s/it]\u001b[32m[I 2021-08-24 13:57:35,003]\u001b[0m Trial 12 finished with value: 7.914573274065253 and parameters: {'num_leaves': 69}. Best is trial 11 with value: 7.914368565569516.\u001b[0m\n",
            "num_leaves, val_score: 7.914309:  35%|###5      | 7/20 [00:33<01:02,  4.82s/it]\u001b[32m[I 2021-08-24 13:57:39,810]\u001b[0m Trial 13 finished with value: 7.914309315351047 and parameters: {'num_leaves': 100}. Best is trial 13 with value: 7.914309315351047.\u001b[0m\n",
            "num_leaves, val_score: 7.914309:  40%|####      | 8/20 [00:37<00:56,  4.68s/it]\u001b[32m[I 2021-08-24 13:57:44,190]\u001b[0m Trial 14 finished with value: 7.915978755291697 and parameters: {'num_leaves': 31}. Best is trial 13 with value: 7.914309315351047.\u001b[0m\n",
            "num_leaves, val_score: 7.913929:  45%|####5     | 9/20 [00:43<00:52,  4.81s/it]\u001b[32m[I 2021-08-24 13:57:49,268]\u001b[0m Trial 15 finished with value: 7.913929120923556 and parameters: {'num_leaves': 163}. Best is trial 15 with value: 7.913929120923556.\u001b[0m\n",
            "num_leaves, val_score: 7.913929:  50%|#####     | 10/20 [00:47<00:47,  4.77s/it]\u001b[32m[I 2021-08-24 13:57:53,949]\u001b[0m Trial 16 finished with value: 7.914265137877535 and parameters: {'num_leaves': 70}. Best is trial 15 with value: 7.913929120923556.\u001b[0m\n",
            "num_leaves, val_score: 7.913929:  55%|#####5    | 11/20 [00:53<00:44,  4.99s/it]\u001b[32m[I 2021-08-24 13:57:59,454]\u001b[0m Trial 17 finished with value: 7.914747997751012 and parameters: {'num_leaves': 253}. Best is trial 15 with value: 7.913929120923556.\u001b[0m\n",
            "num_leaves, val_score: 7.913929:  60%|######    | 12/20 [00:58<00:40,  5.03s/it]\u001b[32m[I 2021-08-24 13:58:04,566]\u001b[0m Trial 18 finished with value: 7.914444086391761 and parameters: {'num_leaves': 174}. Best is trial 15 with value: 7.913929120923556.\u001b[0m\n",
            "num_leaves, val_score: 7.913929:  65%|######5   | 13/20 [01:03<00:35,  5.10s/it]\u001b[32m[I 2021-08-24 13:58:09,823]\u001b[0m Trial 19 finished with value: 7.914216166270939 and parameters: {'num_leaves': 183}. Best is trial 15 with value: 7.913929120923556.\u001b[0m\n",
            "num_leaves, val_score: 7.913929:  70%|#######   | 14/20 [01:08<00:30,  5.12s/it]\u001b[32m[I 2021-08-24 13:58:15,005]\u001b[0m Trial 20 finished with value: 7.914343712071794 and parameters: {'num_leaves': 185}. Best is trial 15 with value: 7.913929120923556.\u001b[0m\n",
            "num_leaves, val_score: 7.913929:  75%|#######5  | 15/20 [01:14<00:25,  5.20s/it]\u001b[32m[I 2021-08-24 13:58:20,372]\u001b[0m Trial 21 finished with value: 7.915752262241689 and parameters: {'num_leaves': 232}. Best is trial 15 with value: 7.913929120923556.\u001b[0m\n",
            "num_leaves, val_score: 7.913929:  80%|########  | 16/20 [01:19<00:20,  5.15s/it]\u001b[32m[I 2021-08-24 13:58:25,424]\u001b[0m Trial 22 finished with value: 7.9140528239011925 and parameters: {'num_leaves': 159}. Best is trial 15 with value: 7.913929120923556.\u001b[0m\n",
            "num_leaves, val_score: 7.913929:  85%|########5 | 17/20 [01:24<00:15,  5.13s/it]\u001b[32m[I 2021-08-24 13:58:30,512]\u001b[0m Trial 23 finished with value: 7.913984480726445 and parameters: {'num_leaves': 147}. Best is trial 15 with value: 7.913929120923556.\u001b[0m\n",
            "num_leaves, val_score: 7.913920:  90%|######### | 18/20 [01:29<00:10,  5.08s/it]\u001b[32m[I 2021-08-24 13:58:35,452]\u001b[0m Trial 24 finished with value: 7.913919731839617 and parameters: {'num_leaves': 139}. Best is trial 24 with value: 7.913919731839617.\u001b[0m\n",
            "num_leaves, val_score: 7.913920:  95%|#########5| 19/20 [01:34<00:05,  5.17s/it]\u001b[32m[I 2021-08-24 13:58:40,839]\u001b[0m Trial 25 finished with value: 7.915525546149964 and parameters: {'num_leaves': 218}. Best is trial 24 with value: 7.913919731839617.\u001b[0m\n",
            "num_leaves, val_score: 7.913920: 100%|##########| 20/20 [01:39<00:00,  5.08s/it]\u001b[32m[I 2021-08-24 13:58:45,722]\u001b[0m Trial 26 finished with value: 7.9146511668046085 and parameters: {'num_leaves': 127}. Best is trial 24 with value: 7.913919731839617.\u001b[0m\n",
            "num_leaves, val_score: 7.913920: 100%|##########| 20/20 [01:39<00:00,  4.98s/it]\n",
            "bagging, val_score: 7.913920:  10%|#         | 1/10 [00:04<00:43,  4.85s/it]\u001b[32m[I 2021-08-24 13:58:50,601]\u001b[0m Trial 27 finished with value: 7.916035294762396 and parameters: {'bagging_fraction': 0.612614939677442, 'bagging_freq': 5}. Best is trial 27 with value: 7.916035294762396.\u001b[0m\n",
            "bagging, val_score: 7.913920:  20%|##        | 2/10 [00:09<00:38,  4.87s/it]\u001b[32m[I 2021-08-24 13:58:55,478]\u001b[0m Trial 28 finished with value: 7.917696636026673 and parameters: {'bagging_fraction': 0.7486750742641841, 'bagging_freq': 7}. Best is trial 27 with value: 7.916035294762396.\u001b[0m\n",
            "bagging, val_score: 7.913920:  30%|###       | 3/10 [00:14<00:34,  4.89s/it]\u001b[32m[I 2021-08-24 13:59:00,388]\u001b[0m Trial 29 finished with value: 7.917214813131732 and parameters: {'bagging_fraction': 0.6499444893474938, 'bagging_freq': 4}. Best is trial 27 with value: 7.916035294762396.\u001b[0m\n",
            "bagging, val_score: 7.913920:  40%|####      | 4/10 [00:19<00:29,  4.91s/it]\u001b[32m[I 2021-08-24 13:59:05,333]\u001b[0m Trial 30 finished with value: 7.918239919078973 and parameters: {'bagging_fraction': 0.7346045642508179, 'bagging_freq': 7}. Best is trial 27 with value: 7.916035294762396.\u001b[0m\n",
            "bagging, val_score: 7.913920:  50%|#####     | 5/10 [00:24<00:24,  4.90s/it]\u001b[32m[I 2021-08-24 13:59:10,212]\u001b[0m Trial 31 finished with value: 7.915201977182964 and parameters: {'bagging_fraction': 0.686908381675816, 'bagging_freq': 2}. Best is trial 31 with value: 7.915201977182964.\u001b[0m\n",
            "bagging, val_score: 7.913920:  60%|######    | 6/10 [00:29<00:19,  4.90s/it]\u001b[32m[I 2021-08-24 13:59:15,119]\u001b[0m Trial 32 finished with value: 7.915434914334879 and parameters: {'bagging_fraction': 0.7574981024535559, 'bagging_freq': 2}. Best is trial 31 with value: 7.915201977182964.\u001b[0m\n",
            "bagging, val_score: 7.913920:  70%|#######   | 7/10 [00:34<00:14,  4.90s/it]\u001b[32m[I 2021-08-24 13:59:20,032]\u001b[0m Trial 33 finished with value: 7.917177704681248 and parameters: {'bagging_fraction': 0.524044964754248, 'bagging_freq': 2}. Best is trial 31 with value: 7.915201977182964.\u001b[0m\n",
            "bagging, val_score: 7.913920:  80%|########  | 8/10 [00:39<00:09,  4.89s/it]\u001b[32m[I 2021-08-24 13:59:24,884]\u001b[0m Trial 34 finished with value: 7.917643783738965 and parameters: {'bagging_fraction': 0.655169079760396, 'bagging_freq': 5}. Best is trial 31 with value: 7.915201977182964.\u001b[0m\n",
            "bagging, val_score: 7.913920:  90%|######### | 9/10 [00:44<00:04,  4.91s/it]\u001b[32m[I 2021-08-24 13:59:29,844]\u001b[0m Trial 35 finished with value: 7.917156648724024 and parameters: {'bagging_fraction': 0.7290257296534902, 'bagging_freq': 4}. Best is trial 31 with value: 7.915201977182964.\u001b[0m\n",
            "bagging, val_score: 7.913920: 100%|##########| 10/10 [00:48<00:00,  4.90s/it]\u001b[32m[I 2021-08-24 13:59:34,724]\u001b[0m Trial 36 finished with value: 7.916822753271083 and parameters: {'bagging_fraction': 0.7620228811925851, 'bagging_freq': 4}. Best is trial 31 with value: 7.915201977182964.\u001b[0m\n",
            "bagging, val_score: 7.913920: 100%|##########| 10/10 [00:48<00:00,  4.90s/it]\n",
            "feature_fraction_stage2, val_score: 7.913920:  33%|###3      | 1/3 [00:04<00:09,  4.97s/it]\u001b[32m[I 2021-08-24 13:59:39,720]\u001b[0m Trial 37 finished with value: 7.9139260541156435 and parameters: {'feature_fraction': 0.9840000000000001}. Best is trial 37 with value: 7.9139260541156435.\u001b[0m\n",
            "feature_fraction_stage2, val_score: 7.913920:  67%|######6   | 2/3 [00:09<00:04,  4.91s/it]\u001b[32m[I 2021-08-24 13:59:44,590]\u001b[0m Trial 38 finished with value: 7.914381328432015 and parameters: {'feature_fraction': 0.92}. Best is trial 37 with value: 7.9139260541156435.\u001b[0m\n",
            "feature_fraction_stage2, val_score: 7.913187: 100%|##########| 3/3 [00:14<00:00,  4.96s/it]\u001b[32m[I 2021-08-24 13:59:49,599]\u001b[0m Trial 39 finished with value: 7.9131872790918205 and parameters: {'feature_fraction': 0.9520000000000001}. Best is trial 39 with value: 7.9131872790918205.\u001b[0m\n",
            "feature_fraction_stage2, val_score: 7.913187: 100%|##########| 3/3 [00:14<00:00,  4.96s/it]\n",
            "regularization_factors, val_score: 7.913187:   5%|5         | 1/20 [00:04<01:34,  4.98s/it]\u001b[32m[I 2021-08-24 13:59:54,603]\u001b[0m Trial 40 finished with value: 7.914574766597204 and parameters: {'lambda_l1': 1.105102429485274, 'lambda_l2': 6.78817153888601}. Best is trial 40 with value: 7.914574766597204.\u001b[0m\n",
            "regularization_factors, val_score: 7.913187:  10%|#         | 2/20 [00:09<01:29,  4.95s/it]\u001b[32m[I 2021-08-24 13:59:59,520]\u001b[0m Trial 41 finished with value: 7.91318728090282 and parameters: {'lambda_l1': 0.00044868157914105617, 'lambda_l2': 1.5625801873095248e-08}. Best is trial 41 with value: 7.91318728090282.\u001b[0m\n",
            "regularization_factors, val_score: 7.913187:  15%|#5        | 3/20 [00:14<01:24,  4.96s/it]\u001b[32m[I 2021-08-24 14:00:04,496]\u001b[0m Trial 42 finished with value: 7.914314711553935 and parameters: {'lambda_l1': 0.20514540963449754, 'lambda_l2': 0.29277064850906853}. Best is trial 41 with value: 7.91318728090282.\u001b[0m\n",
            "regularization_factors, val_score: 7.913187:  20%|##        | 4/20 [00:20<01:20,  5.04s/it]\u001b[32m[I 2021-08-24 14:00:09,654]\u001b[0m Trial 43 finished with value: 7.91485881456879 and parameters: {'lambda_l1': 3.1650723501568155e-08, 'lambda_l2': 4.553868519234102}. Best is trial 41 with value: 7.91318728090282.\u001b[0m\n",
            "regularization_factors, val_score: 7.913187:  25%|##5       | 5/20 [00:25<01:15,  5.04s/it]\u001b[32m[I 2021-08-24 14:00:14,701]\u001b[0m Trial 44 finished with value: 7.913499963003809 and parameters: {'lambda_l1': 1.0190914254844012, 'lambda_l2': 1.1764919047697725e-07}. Best is trial 41 with value: 7.91318728090282.\u001b[0m\n",
            "regularization_factors, val_score: 7.913187:  30%|###       | 6/20 [00:30<01:10,  5.06s/it]\u001b[32m[I 2021-08-24 14:00:19,790]\u001b[0m Trial 45 finished with value: 7.913187287156493 and parameters: {'lambda_l1': 0.0020066011093543934, 'lambda_l2': 2.076026928718527e-06}. Best is trial 41 with value: 7.91318728090282.\u001b[0m\n",
            "regularization_factors, val_score: 7.913187:  35%|###5      | 7/20 [00:35<01:06,  5.11s/it]\u001b[32m[I 2021-08-24 14:00:25,012]\u001b[0m Trial 46 finished with value: 7.91403881883809 and parameters: {'lambda_l1': 0.019390699096238223, 'lambda_l2': 8.478614120059245}. Best is trial 41 with value: 7.91318728090282.\u001b[0m\n",
            "regularization_factors, val_score: 7.913187:  40%|####      | 8/20 [00:40<01:00,  5.05s/it]\u001b[32m[I 2021-08-24 14:00:29,929]\u001b[0m Trial 47 finished with value: 7.913187287358365 and parameters: {'lambda_l1': 0.0035932497355082283, 'lambda_l2': 0.000914809211523249}. Best is trial 41 with value: 7.91318728090282.\u001b[0m\n",
            "regularization_factors, val_score: 7.913187:  45%|####5     | 9/20 [00:45<00:55,  5.04s/it]\u001b[32m[I 2021-08-24 14:00:34,942]\u001b[0m Trial 48 finished with value: 7.913187279088613 and parameters: {'lambda_l1': 7.283455444121638e-08, 'lambda_l2': 5.265506277832852e-07}. Best is trial 48 with value: 7.913187279088613.\u001b[0m\n",
            "regularization_factors, val_score: 7.913187:  50%|#####     | 10/20 [00:50<00:50,  5.01s/it]\u001b[32m[I 2021-08-24 14:00:39,877]\u001b[0m Trial 49 finished with value: 7.913758023105181 and parameters: {'lambda_l1': 0.02739824243708571, 'lambda_l2': 0.1389243276776857}. Best is trial 48 with value: 7.913187279088613.\u001b[0m\n",
            "regularization_factors, val_score: 7.913187:  55%|#####5    | 11/20 [00:55<00:44,  5.00s/it]\u001b[32m[I 2021-08-24 14:00:44,854]\u001b[0m Trial 50 finished with value: 7.913187278779819 and parameters: {'lambda_l1': 4.13960158884077e-07, 'lambda_l2': 4.416440516240107e-05}. Best is trial 50 with value: 7.913187278779819.\u001b[0m\n",
            "regularization_factors, val_score: 7.913187:  60%|######    | 12/20 [01:00<00:39,  4.99s/it]\u001b[32m[I 2021-08-24 14:00:49,815]\u001b[0m Trial 51 finished with value: 7.913187278930166 and parameters: {'lambda_l1': 1.867586683176474e-07, 'lambda_l2': 2.5510651963249082e-05}. Best is trial 50 with value: 7.913187278779819.\u001b[0m\n",
            "regularization_factors, val_score: 7.913187:  65%|######5   | 13/20 [01:05<00:34,  4.97s/it]\u001b[32m[I 2021-08-24 14:00:54,739]\u001b[0m Trial 52 finished with value: 7.913187278850327 and parameters: {'lambda_l1': 3.5526105768452583e-06, 'lambda_l2': 3.5559794550050085e-05}. Best is trial 50 with value: 7.913187278779819.\u001b[0m\n",
            "regularization_factors, val_score: 7.913187:  70%|#######   | 14/20 [01:10<00:29,  4.96s/it]\u001b[32m[I 2021-08-24 14:00:59,682]\u001b[0m Trial 53 finished with value: 7.9131872749792445 and parameters: {'lambda_l1': 5.5235860567303094e-06, 'lambda_l2': 0.0006044258612943246}. Best is trial 53 with value: 7.9131872749792445.\u001b[0m\n",
            "regularization_factors, val_score: 7.913187:  75%|#######5  | 15/20 [01:15<00:24,  4.97s/it]\u001b[32m[I 2021-08-24 14:01:04,666]\u001b[0m Trial 54 finished with value: 7.9131872707509245 and parameters: {'lambda_l1': 9.81249431057756e-06, 'lambda_l2': 0.0012239542199990623}. Best is trial 54 with value: 7.9131872707509245.\u001b[0m\n",
            "regularization_factors, val_score: 7.913187:  80%|########  | 16/20 [01:19<00:19,  4.95s/it]\u001b[32m[I 2021-08-24 14:01:09,563]\u001b[0m Trial 55 finished with value: 7.9131872576814875 and parameters: {'lambda_l1': 1.5962433695523915e-05, 'lambda_l2': 0.0031589248153315315}. Best is trial 55 with value: 7.9131872576814875.\u001b[0m\n",
            "regularization_factors, val_score: 7.913187:  85%|########5 | 17/20 [01:24<00:14,  4.95s/it]\u001b[32m[I 2021-08-24 14:01:14,526]\u001b[0m Trial 56 finished with value: 7.913187200173257 and parameters: {'lambda_l1': 3.169558654437799e-05, 'lambda_l2': 0.011667463122520856}. Best is trial 56 with value: 7.913187200173257.\u001b[0m\n",
            "regularization_factors, val_score: 7.913187:  90%|######### | 18/20 [01:29<00:09,  4.94s/it]\u001b[32m[I 2021-08-24 14:01:19,425]\u001b[0m Trial 57 finished with value: 7.913187200443178 and parameters: {'lambda_l1': 4.146384566941483e-05, 'lambda_l2': 0.011632858641717885}. Best is trial 56 with value: 7.913187200173257.\u001b[0m\n",
            "regularization_factors, val_score: 7.913187:  95%|#########5| 19/20 [01:34<00:04,  4.96s/it]\u001b[32m[I 2021-08-24 14:01:24,433]\u001b[0m Trial 58 finished with value: 7.914259492116849 and parameters: {'lambda_l1': 0.00014903900838259023, 'lambda_l2': 0.014495625369208934}. Best is trial 56 with value: 7.913187200173257.\u001b[0m\n",
            "regularization_factors, val_score: 7.913187: 100%|##########| 20/20 [01:39<00:00,  4.95s/it]\u001b[32m[I 2021-08-24 14:01:29,382]\u001b[0m Trial 59 finished with value: 7.913861522462227 and parameters: {'lambda_l1': 0.00010824183085387448, 'lambda_l2': 0.0585246684604953}. Best is trial 56 with value: 7.913187200173257.\u001b[0m\n",
            "regularization_factors, val_score: 7.913187: 100%|##########| 20/20 [01:39<00:00,  4.99s/it]\n",
            "min_data_in_leaf, val_score: 7.913187:  20%|##        | 1/5 [00:04<00:19,  4.96s/it]\u001b[32m[I 2021-08-24 14:01:34,378]\u001b[0m Trial 60 finished with value: 7.9139052092380675 and parameters: {'min_child_samples': 100}. Best is trial 60 with value: 7.9139052092380675.\u001b[0m\n",
            "min_data_in_leaf, val_score: 7.913187:  40%|####      | 2/5 [00:09<00:14,  4.92s/it]\u001b[32m[I 2021-08-24 14:01:39,249]\u001b[0m Trial 61 finished with value: 7.914106165826557 and parameters: {'min_child_samples': 10}. Best is trial 60 with value: 7.9139052092380675.\u001b[0m\n",
            "min_data_in_leaf, val_score: 7.913187:  60%|######    | 3/5 [00:14<00:09,  4.93s/it]\u001b[32m[I 2021-08-24 14:01:44,197]\u001b[0m Trial 62 finished with value: 7.914693170224448 and parameters: {'min_child_samples': 5}. Best is trial 60 with value: 7.9139052092380675.\u001b[0m\n",
            "min_data_in_leaf, val_score: 7.913187:  80%|########  | 4/5 [00:19<00:04,  4.91s/it]\u001b[32m[I 2021-08-24 14:01:49,080]\u001b[0m Trial 63 finished with value: 7.914352970794292 and parameters: {'min_child_samples': 50}. Best is trial 60 with value: 7.9139052092380675.\u001b[0m\n",
            "min_data_in_leaf, val_score: 7.913187: 100%|##########| 5/5 [00:24<00:00,  4.91s/it]\u001b[32m[I 2021-08-24 14:01:53,983]\u001b[0m Trial 64 finished with value: 7.913621070166263 and parameters: {'min_child_samples': 25}. Best is trial 64 with value: 7.913621070166263.\u001b[0m\n",
            "min_data_in_leaf, val_score: 7.913187: 100%|##########| 5/5 [00:24<00:00,  4.92s/it]\n"
          ],
          "name": "stderr"
        },
        {
          "output_type": "stream",
          "text": [
            "[100]\ttrain's rmse: 6.96119\tvalid's rmse: 7.88658\n",
            "score: 6.1366\n"
          ],
          "name": "stdout"
        }
      ]
    },
    {
      "cell_type": "code",
      "metadata": {
        "id": "iGl_XbqwcwqM"
      },
      "source": [
        "importance = pd.DataFrame(model.feature_importance(), index=feat_cols, columns=['importance'])\n",
        "print(importance.sort_values('importance', ascending=False).head(30))"
      ],
      "execution_count": null,
      "outputs": []
    },
    {
      "cell_type": "markdown",
      "metadata": {
        "id": "uWA0eva7VTmp"
      },
      "source": [
        ""
      ]
    }
  ]
}